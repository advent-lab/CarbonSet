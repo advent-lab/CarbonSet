{
 "cells": [
  {
   "cell_type": "code",
   "execution_count": 1,
   "metadata": {},
   "outputs": [],
   "source": [
    "import numpy as np\n",
    "import matplotlib.pyplot as plt\n",
    "import pandas as pd\n",
    "import sys, os , argparse"
   ]
  },
  {
   "cell_type": "markdown",
   "metadata": {},
   "source": [
    "# Constant Parameters for CFP modeling\n",
    "The following parameters are constants, representing the maximun, minium and most probable values sampled from our probabilistic distribution. If you re-run the **probabilistic sequence generation** in `cfp_calculation.ipynb`, you may obtain slightly different values.\n"
   ]
  },
  {
   "cell_type": "markdown",
   "metadata": {},
   "source": [
    "# Read and clean the base dataset"
   ]
  },
  {
   "cell_type": "code",
   "execution_count": 2,
   "metadata": {},
   "outputs": [],
   "source": [
    "processors = pd.read_excel('DataSetWithRelaventNodesArea.xlsx')\n",
    "processors = processors.dropna(subset=['DieSizeValue', 'Die Size (mm^2)'], how='all')\n",
    "processors = processors[(processors['DieSizeValue'] != 0) | (processors['Die Size (mm^2)'] != 0)]\n",
    "processors = processors[processors['DieSizeValue'] != 'unknown']\n",
    "processors = processors[processors['Die Size (mm^2)'] != 'unknown']\n",
    "# Chiplet processors have different notations in die size value and die size\n",
    "chiplet = processors[processors['DieSizeValue'] != processors['Die Size (mm^2)']]\n",
    "\n",
    "\n",
    "processors = processors.drop(processors[processors['DieSizeValue'] != processors['Die Size (mm^2)']].index)\n",
    "processors = processors[processors['TDP (W)'].notna()]\n",
    "processors = processors[processors['TDP (W)'] != 'unknown']\n",
    "processors = processors[processors['TDP (W)'] != '0']"
   ]
  },
  {
   "cell_type": "markdown",
   "metadata": {},
   "source": [
    "## Following code block generates the probabilistic distribution of manufacturing parameters required by ECO-CHIP. \n",
    "## We then perform Monte-Carlo simulation using these generated samples to calculate the final CFP of each processor"
   ]
  },
  {
   "cell_type": "code",
   "execution_count": null,
   "metadata": {},
   "outputs": [],
   "source": [
    "sample_size = 1000000\n",
    "ci_model_mean = 522.936\n",
    "ci_model_std = 19.826\n",
    "ci_model = np.random.choice(np.arange(480.8486,546.7014,2.057901), size=sample_size, replace=True, p = [0.03125,0.03125,0.03125,0.03125,0.01041667,0.01041667,0.01041667,0.01041663,0.01041667,\n",
    "                                                                                                  0.01041667,0.01041667,0.01041667,0.01041667,0.01041667,0.01041667,\n",
    "                                                                                                  0.01041667,0.04166667,0.04166667,0.04166667,0.04166667,\n",
    "                                                                                                  0.02083333,0.02083333,0.02083333,0.02083333,0.0625,0.0625,\n",
    "                                                                                                  0.0625,0.0625,0.0625,0.0625,0.0625,0.0625])\n",
    "gpa_mean=150\n",
    "gpa_std=30\n",
    "\n",
    "gpa_model = np.random.normal(gpa_mean, gpa_std, sample_size)\n",
    "gpa_model = np.clip(gpa_model,50,300)\n",
    "\n",
    "\n",
    "\n",
    "defective_density_bench =  {\"7\": 0.2, \"10\": 0.11, \"14\":0.09, \"22\": 0.08, \"28\":0.07, \"65\":0.05}\n",
    "epa_bench =  {\"7\": 2.15, \"10\": 1.475, \"14\":1.2, \"22\": 1.2, \"28\":0.9}\n",
    "\n",
    "epa_distribution = [0.092478422,0.09864365,\n",
    "                    0.101726264,0.103575832,0.101726264,0.097410604,\n",
    "                    0.091245376,0.08323058,0.073982737,0.061652281,\n",
    "                    0.048088779,0.033908755,0.012330456,]\n",
    "\n",
    "defective_distribution=[0.1125,0.1125,0.1125,0.1125,0.1125,0.05,0.05,0.05,0.05,0.05,\n",
    "    0.0125,0.0125,0.0125,0.0125,0.0125,0.0125,0.0125,0.0125,\n",
    "    0.0125,0.0125,0.0125,0.0125,0.0125,0.0125,0.0125,]\n",
    "\n",
    "def distribution_modeling(bench, p, stride = 25, d1 = None, d2 = None):\n",
    "    d1 = 0.11 - 0.095\n",
    "    d2 = 0.42 - 0.11\n",
    "    defect_distribution = dict()\n",
    "    for node in bench:\n",
    "        defect_bench = defective_density_bench[node]\n",
    "        start = defect_bench - d1\n",
    "        end = defect_bench + d2\n",
    "        step = (end - start) / stride\n",
    "        defect_distribution[node] = np.random.choice(np.arange(start, end, step), size=sample_size, replace=True, p=p)\n",
    "\n",
    "    return defect_distribution\n",
    "\n",
    "def highest_probability(result):\n",
    "    unique_values, counts = np.unique(result, return_counts=True)\n",
    "    probabilities = counts / len(result)  # Convert frequency models to probabilities\n",
    "    # Find the maximum probability and its corresponding value\n",
    "    max_prob_index = np.argmax(probabilities)\n",
    "    max_prob_value = unique_values[max_prob_index]\n",
    "    max_prob = probabilities[max_prob_index]\n",
    "\n",
    "    return max_prob_value, max_prob"
   ]
  },
  {
   "cell_type": "code",
   "execution_count": 8,
   "metadata": {},
   "outputs": [
    {
     "name": "stdout",
     "output_type": "stream",
     "text": [
      "Most Probable CFP value calculation Finished\n"
     ]
    }
   ],
   "source": [
    "sys.path.append(os.path.join(os.getcwd(), \"../eco_chip_enhanced\"))\n",
    "\n",
    "from eco_chip_func import eco_chip\n",
    "for idx, proc in processors.iterrows():\n",
    "\n",
    "    # node = int(proc['Process Size (nm)'])\n",
    "    node = int(proc['Process Size (nm)'])\n",
    "    power = int(proc['TDP (W)'])\n",
    "    area = int(proc['DieSizeValue'])\n",
    "\n",
    "    defect = defect_density_min[str(node)]\n",
    "    epa_val = epa_min[str(node)]\n",
    "    gpa_val =gpa_min\n",
    "    ci_val = ci_min\n",
    "\n",
    "    args = argparse.Namespace(design_dir='testcases/CFP_survey/', \n",
    "                                chip_area=area, \n",
    "                                node=node, \n",
    "                                chip_power=power, \n",
    "                                defect_density=defect,\n",
    "                                num_lifetime=None, \n",
    "                                gpa = gpa_val, \n",
    "                                epa = epa_val,\n",
    "                                tech_scaling_path='../eco_chip_enhanced/',\n",
    "                                carbon_intensity=ci_val)    \n",
    "    c_des, c_mfg, c_ope, c_tot = eco_chip(args)\n",
    "    min_emb = float(c_des) + float(c_mfg)\n",
    "    min_ope = c_ope\n",
    "    min_tot = min_emb + float(c_ope)\n",
    "    processors.at[idx, 'Emb Crabon Min'] = min_emb\n",
    "    processors.at[idx, 'Ope Carbon Min'] = min_ope\n",
    "    processors.at[idx, 'Tot Carbon Min'] = min_tot\n",
    "    processors.at[idx, 'ECFPA Min'] = min_emb / area\n",
    "\n",
    "\n",
    "    defect = defect_density_max[str(node)]\n",
    "    epa_val = epa_max[str(node)]\n",
    "    gpa_val =gpa_max\n",
    "    ci_val = ci_max\n",
    "\n",
    "    args = argparse.Namespace(design_dir='testcases/CFP_survey/', \n",
    "                                chip_area=area, \n",
    "                                node=node, \n",
    "                                chip_power=power, \n",
    "                                defect_density=defect,\n",
    "                                num_lifetime=None, \n",
    "                                gpa = gpa_val, \n",
    "                                epa = epa_val,\n",
    "                                tech_scaling_path='../eco_chip_enhanced/',\n",
    "                                carbon_intensity=ci_val)    \n",
    "    c_des, c_mfg, c_ope, c_tot = eco_chip(args)\n",
    "    max_emb = float(c_des) + float(c_mfg)\n",
    "    max_ope = c_ope\n",
    "    max_tot = max_emb + float(c_ope)\n",
    "\n",
    "    processors.at[idx, 'Emb Crabon Max'] = max_emb\n",
    "    processors.at[idx, 'Ope Carbon Max'] = max_ope\n",
    "    processors.at[idx, 'Tot Carbon Max'] = max_tot\n",
    "    processors.at[idx, 'ECFPA Max'] = max_emb / area\n",
    "\n",
    "    defect = defect_density[str(node)]\n",
    "    epa_val = epa[str(node)]\n",
    "    gpa_val =gpa\n",
    "    ci_val = ci\n",
    "\n",
    "    args = argparse.Namespace(design_dir='testcases/CFP_survey/', \n",
    "                                    chip_area=area, \n",
    "                                    node=node, \n",
    "                                    chip_power=power, \n",
    "                                    defect_density=defect,\n",
    "                                    num_lifetime=None, \n",
    "                                    gpa = gpa_val, \n",
    "                                    epa = epa_val,\n",
    "                                    tech_scaling_path='../eco_chip_enhanced/',\n",
    "                                    carbon_intensity=ci_val)    \n",
    "\n",
    "    c_des, c_mfg, c_ope, c_tot = eco_chip(args)\n",
    "    emb = float(c_des) + float(c_mfg)\n",
    "    ope = c_ope\n",
    "    tot = emb + float(c_ope)\n",
    "\n",
    "\n",
    "    processors.at[idx, 'Emb Crabon Most Probable'] = emb\n",
    "    processors.at[idx, 'Ope Carbon Most Probable'] = ope\n",
    "    processors.at[idx, 'Tot Carbon Most Probable'] = tot\n",
    "    processors.at[idx, 'ECFPA Most Probable'] = emb / area\n",
    "\n",
    "print(\"Most Probable CFP value calculation Finished\")"
   ]
  },
  {
   "cell_type": "markdown",
   "metadata": {},
   "source": [
    "# Combine Chiplet and processed processors to CSV"
   ]
  },
  {
   "cell_type": "code",
   "execution_count": 10,
   "metadata": {},
   "outputs": [],
   "source": [
    "processors\n",
    "chiplet['Emb Crabon Min'] = 'Insuficient Data'\n",
    "chiplet['Ope Carbon Min'] = 'Insuficient Data'\n",
    "chiplet['Tot Carbon Min'] = 'Insuficient Data'\n",
    "chiplet['ECFPA Min'] = 'Insuficient Data'\n",
    "\n",
    "chiplet['Emb Crabon Max'] = 'Insuficient Data'\n",
    "chiplet['Ope Carbon Max'] = 'Insuficient Data'  \n",
    "chiplet['Tot Carbon Max'] = 'Insuficient Data'\n",
    "chiplet['ECFPA Max'] = 'Insuficient Data'\n",
    "\n",
    "chiplet['Emb Crabon Most Probable'] = 'Insuficient Data'\n",
    "chiplet['Ope Carbon Most Probable'] = 'Insuficient Data'\n",
    "chiplet['Tot Carbon Most Probable'] = 'Insuficient Data'\n",
    "chiplet['ECFPA Most Probable'] = 'Insuficient Data'\n",
    "\n",
    "combined_df = pd.concat([chiplet, processors], ignore_index=True)\n",
    "combined_df.to_csv('../dataset/CarbonSet.csv', index=False)\n"
   ]
  }
 ],
 "metadata": {
  "kernelspec": {
   "display_name": "llmcompass",
   "language": "python",
   "name": "python3"
  },
  "language_info": {
   "codemirror_mode": {
    "name": "ipython",
    "version": 3
   },
   "file_extension": ".py",
   "mimetype": "text/x-python",
   "name": "python",
   "nbconvert_exporter": "python",
   "pygments_lexer": "ipython3",
   "version": "3.9.21"
  }
 },
 "nbformat": 4,
 "nbformat_minor": 2
}
