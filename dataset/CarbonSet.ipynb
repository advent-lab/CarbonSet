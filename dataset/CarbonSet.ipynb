{
 "cells": [
  {
   "cell_type": "code",
   "execution_count": 3,
   "metadata": {},
   "outputs": [],
   "source": [
    "import numpy as np\n",
    "import matplotlib.pyplot as plt\n",
    "import pandas as pd\n",
    "import sys, os , argparse"
   ]
  },
  {
   "cell_type": "markdown",
   "metadata": {},
   "source": [
    "# Constant Parameters for CFP modeling\n",
    "The following parameters are constants, representing the maximun, minium and most probable values sampled from our probabilistic distribution. If you re-run the **probabilistic sequence generation** in `cfp_calculation.ipynb`, you may obtain slightly different values.\n"
   ]
  },
  {
   "cell_type": "markdown",
   "metadata": {},
   "source": [
    "# Read and clean the base dataset"
   ]
  },
  {
   "cell_type": "code",
   "execution_count": 4,
   "metadata": {},
   "outputs": [],
   "source": [
    "processors = pd.read_excel('DataSetWithRelaventNodesArea.xlsx')\n",
    "processors = processors.dropna(subset=['DieSizeValue', 'Die Size (mm^2)'], how='all')\n",
    "processors = processors[(processors['DieSizeValue'] != 0) | (processors['Die Size (mm^2)'] != 0)]\n",
    "processors = processors[processors['DieSizeValue'] != 'unknown']\n",
    "processors = processors[processors['Die Size (mm^2)'] != 'unknown']\n",
    "# Chiplet processors have different notations in die size value and die size\n",
    "chiplet = processors[processors['DieSizeValue'] != processors['Die Size (mm^2)']]\n",
    "\n",
    "\n",
    "processors = processors.drop(processors[processors['DieSizeValue'] != processors['Die Size (mm^2)']].index)\n",
    "processors = processors[processors['TDP (W)'].notna()]\n",
    "processors = processors[processors['TDP (W)'] != 'unknown']\n",
    "processors = processors[processors['TDP (W)'] != '0']"
   ]
  },
  {
   "cell_type": "code",
   "execution_count": 5,
   "metadata": {},
   "outputs": [],
   "source": [
    "# most probable values of input parameters\n",
    "nodes = ['7', '10', '14', '22', '28']\n",
    "ci = 540\n",
    "gpa = 150\n",
    "epa = {'7': 0.235, '10': 0.195, '14': 0.125, '22': 0.140, '28': 0.105}\n",
    "defect_density = {'7': 0.224, '10': 0.147, '14': 0.127, '22': 0.091, '28': 0.081}\n"
   ]
  },
  {
   "cell_type": "code",
   "execution_count": 6,
   "metadata": {},
   "outputs": [],
   "source": [
    "# minimum values of input parameters\n",
    "ci_min = 480.849\n",
    "gpa_min = 50\n",
    "defect_density_min = {'7': 0.185, '10': 0.095, '14': 0.075, '22': 0.065, '28': 0.055}\n",
    "epa_min = {'7': 0.185, '10': 0.095, '14': 0.075, '22': 0.065, '28': 0.055}\n"
   ]
  },
  {
   "cell_type": "code",
   "execution_count": 7,
   "metadata": {},
   "outputs": [],
   "source": [
    "# maximum values of input parameters\n",
    "ci_max = 544.644\n",
    "gpa_max = 252.533\n",
    "defect_density_max = {'7': 0.497, '10': 0.407, '14': 0.387, '22': 0.377, '28': 0.367}\n",
    "epa_max = {'7': 0.485, '10': 0.395, '14': 0.375, '22': 0.365, '28': 0.355}"
   ]
  },
  {
   "cell_type": "code",
   "execution_count": 8,
   "metadata": {},
   "outputs": [
    {
     "name": "stdout",
     "output_type": "stream",
     "text": [
      "Most Probable CFP value calculation Finished\n"
     ]
    }
   ],
   "source": [
    "sys.path.append(os.path.join(os.getcwd(), \"../eco_chip_enhanced\"))\n",
    "\n",
    "from eco_chip_func import eco_chip\n",
    "for idx, proc in processors.iterrows():\n",
    "\n",
    "    # node = int(proc['Process Size (nm)'])\n",
    "    node = int(proc['Process Size (nm)'])\n",
    "    power = int(proc['TDP (W)'])\n",
    "    area = int(proc['DieSizeValue'])\n",
    "\n",
    "    defect = defect_density_min[str(node)]\n",
    "    epa_val = epa_min[str(node)]\n",
    "    gpa_val =gpa_min\n",
    "    ci_val = ci_min\n",
    "\n",
    "    args = argparse.Namespace(design_dir='testcases/CFP_survey/', \n",
    "                                chip_area=area, \n",
    "                                node=node, \n",
    "                                chip_power=power, \n",
    "                                defect_density=defect,\n",
    "                                num_lifetime=None, \n",
    "                                gpa = gpa_val, \n",
    "                                epa = epa_val,\n",
    "                                tech_scaling_path='../eco_chip_enhanced/',\n",
    "                                carbon_intensity=ci_val)    \n",
    "    c_des, c_mfg, c_ope, c_tot = eco_chip(args)\n",
    "    min_emb = float(c_des) + float(c_mfg)\n",
    "    min_ope = c_ope\n",
    "    min_tot = min_emb + float(c_ope)\n",
    "    processors.at[idx, 'Emb Crabon Min'] = min_emb\n",
    "    processors.at[idx, 'Ope Carbon Min'] = min_ope\n",
    "    processors.at[idx, 'Tot Carbon Min'] = min_tot\n",
    "    processors.at[idx, 'ECFPA Min'] = min_emb / area\n",
    "\n",
    "\n",
    "    defect = defect_density_max[str(node)]\n",
    "    epa_val = epa_max[str(node)]\n",
    "    gpa_val =gpa_max\n",
    "    ci_val = ci_max\n",
    "\n",
    "    args = argparse.Namespace(design_dir='testcases/CFP_survey/', \n",
    "                                chip_area=area, \n",
    "                                node=node, \n",
    "                                chip_power=power, \n",
    "                                defect_density=defect,\n",
    "                                num_lifetime=None, \n",
    "                                gpa = gpa_val, \n",
    "                                epa = epa_val,\n",
    "                                tech_scaling_path='../eco_chip_enhanced/',\n",
    "                                carbon_intensity=ci_val)    \n",
    "    c_des, c_mfg, c_ope, c_tot = eco_chip(args)\n",
    "    max_emb = float(c_des) + float(c_mfg)\n",
    "    max_ope = c_ope\n",
    "    max_tot = max_emb + float(c_ope)\n",
    "\n",
    "    processors.at[idx, 'Emb Crabon Max'] = max_emb\n",
    "    processors.at[idx, 'Ope Carbon Max'] = max_ope\n",
    "    processors.at[idx, 'Tot Carbon Max'] = max_tot\n",
    "    processors.at[idx, 'ECFPA Max'] = max_emb / area\n",
    "\n",
    "    defect = defect_density[str(node)]\n",
    "    epa_val = epa[str(node)]\n",
    "    gpa_val =gpa\n",
    "    ci_val = ci\n",
    "\n",
    "    args = argparse.Namespace(design_dir='testcases/CFP_survey/', \n",
    "                                    chip_area=area, \n",
    "                                    node=node, \n",
    "                                    chip_power=power, \n",
    "                                    defect_density=defect,\n",
    "                                    num_lifetime=None, \n",
    "                                    gpa = gpa_val, \n",
    "                                    epa = epa_val,\n",
    "                                    tech_scaling_path='../eco_chip_enhanced/',\n",
    "                                    carbon_intensity=ci_val)    \n",
    "\n",
    "    c_des, c_mfg, c_ope, c_tot = eco_chip(args)\n",
    "    emb = float(c_des) + float(c_mfg)\n",
    "    ope = c_ope\n",
    "    tot = emb + float(c_ope)\n",
    "\n",
    "\n",
    "    processors.at[idx, 'Emb Crabon Most Probable'] = emb\n",
    "    processors.at[idx, 'Ope Carbon Most Probable'] = ope\n",
    "    processors.at[idx, 'Tot Carbon Most Probable'] = tot\n",
    "    processors.at[idx, 'ECFPA Most Probable'] = emb / area\n",
    "\n",
    "print(\"Most Probable CFP value calculation Finished\")"
   ]
  },
  {
   "cell_type": "markdown",
   "metadata": {},
   "source": [
    "# Combine Chiplet and processed processors to CSV"
   ]
  },
  {
   "cell_type": "code",
   "execution_count": 10,
   "metadata": {},
   "outputs": [],
   "source": [
    "processors\n",
    "chiplet['Emb Crabon Min'] = 'Insuficient Data'\n",
    "chiplet['Ope Carbon Min'] = 'Insuficient Data'\n",
    "chiplet['Tot Carbon Min'] = 'Insuficient Data'\n",
    "chiplet['ECFPA Min'] = 'Insuficient Data'\n",
    "\n",
    "chiplet['Emb Crabon Max'] = 'Insuficient Data'\n",
    "chiplet['Ope Carbon Max'] = 'Insuficient Data'  \n",
    "chiplet['Tot Carbon Max'] = 'Insuficient Data'\n",
    "chiplet['ECFPA Max'] = 'Insuficient Data'\n",
    "\n",
    "chiplet['Emb Crabon Most Probable'] = 'Insuficient Data'\n",
    "chiplet['Ope Carbon Most Probable'] = 'Insuficient Data'\n",
    "chiplet['Tot Carbon Most Probable'] = 'Insuficient Data'\n",
    "chiplet['ECFPA Most Probable'] = 'Insuficient Data'\n",
    "\n",
    "combined_df = pd.concat([chiplet, processors], ignore_index=True)\n",
    "combined_df.to_csv('../dataset/CarbonSet.csv', index=False)\n"
   ]
  }
 ],
 "metadata": {
  "kernelspec": {
   "display_name": "base",
   "language": "python",
   "name": "python3"
  },
  "language_info": {
   "codemirror_mode": {
    "name": "ipython",
    "version": 3
   },
   "file_extension": ".py",
   "mimetype": "text/x-python",
   "name": "python",
   "nbconvert_exporter": "python",
   "pygments_lexer": "ipython3",
   "version": "3.11.4"
  }
 },
 "nbformat": 4,
 "nbformat_minor": 2
}
