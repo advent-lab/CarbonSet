{
 "cells": [
  {
   "cell_type": "code",
   "execution_count": 5,
   "metadata": {},
   "outputs": [],
   "source": [
    "import numpy as np\n",
    "import matplotlib.pyplot as plt\n",
    "import pandas as pd\n",
    "import sys, os, argparse"
   ]
  },
  {
   "cell_type": "markdown",
   "metadata": {},
   "source": [
    "### Data Cleaning Workflow\n",
    "\n",
    "1. **Read the Original Processor Dataset**:\n",
    "    - The dataset contains various details about processors, including:\n",
    "      - Product Type\n",
    "      - Processor Name\n",
    "      - Process Node\n",
    "      - Die Area\n",
    "      - TDP\n",
    "      - GFLOPS\n",
    "      - Release Date\n",
    "      - Vendor\n",
    "      - Manufacturing \n",
    "      - Frequency(GHz)\n",
    "\n",
    "2. **Clean Up the Dataset**:\n",
    "    - Remove unnecessary columns and keep only the relevant ones: *Processor Type, Name, Node, Die Area, TDP*\n",
    "\n",
    "3. **Filter OutProcessors**:\n",
    "    - Currently, **ECO-CHIP** and **CarbonSet** only supports monolithic chips, we partition the processors into *monolithic* and *chiplet* processors.\n",
    "    - We further partition the GPUs and CPUs to separate datasets."
   ]
  },
  {
   "cell_type": "code",
   "execution_count": 2,
   "metadata": {},
   "outputs": [
    {
     "name": "stderr",
     "output_type": "stream",
     "text": [
      "/var/folders/m8/b_2080mx7_g7rw0h0twjfqk00000gn/T/ipykernel_66868/2234529275.py:5: FutureWarning: Downcasting behavior in `replace` is deprecated and will be removed in a future version. To retain the old behavior, explicitly call `result.infer_objects(copy=False)`. To opt-in to the future behavior, set `pd.set_option('future.no_silent_downcasting', True)`\n",
      "  original_processors[columns_to_check] = original_processors[columns_to_check].replace([0,'unknown'], np.nan, )\n"
     ]
    }
   ],
   "source": [
    "original_processors = pd.read_excel(\"DataSetWithRelaventNodesArea.xlsx\")\n",
    "# Define columns to check for missing/zero values (excluding GFLOPS columns)\n",
    "columns_to_check = [col for col in original_processors.columns if 'GFLOPS' not in col]\n",
    "# Replace zero values with NaN for non-GFLOPS columns\n",
    "original_processors[columns_to_check] = original_processors[columns_to_check].replace([0,'unknown'], np.nan, )\n",
    "# Drop rows with any NaN values in the specified columns\n",
    "cleaned_processors = original_processors.dropna(subset=columns_to_check)\n",
    "cleaned_processors = cleaned_processors.drop(columns=[col for col in cleaned_processors.columns if 'GFLOPS' in col])"
   ]
  },
  {
   "cell_type": "code",
   "execution_count": 4,
   "metadata": {},
   "outputs": [],
   "source": [
    "# Identify chiplet processors where DieSizeValue differs from Die Size\n",
    "chiplet_mask = cleaned_processors['DieSizeValue'] != cleaned_processors['Die Size (mm^2)']\n",
    "# Get chiplet processors\n",
    "chiplet_processors = cleaned_processors[chiplet_mask]\n",
    "# Get non-chiplet processors\n",
    "monolithic_processors = cleaned_processors[~chiplet_mask]\n",
    "chiplet_processors.to_csv(\"chiplet_processors.csv\", index=False)\n",
    "monolithic_processors.to_csv(\"monolithic_processors.csv\", index=False)\n",
    "# further partition the monolithic processors into GPUs and CPUs\n",
    "gpu_processors = monolithic_processors[monolithic_processors['Type'] == 'GPU']\n",
    "cpu_processors = monolithic_processors[monolithic_processors['Type'] == 'CPU']\n",
    "gpu_processors.to_csv(\"gpus.csv\", index=False)     \n",
    "cpu_processors.to_csv(\"cpus.csv\", index=False)"
   ]
  },
  {
   "cell_type": "markdown",
   "metadata": {},
   "source": [
    "### Sustainable Metrics Generation for Cleaned Monolithic Chips\n",
    "\n",
    "We can now further generate the sustainable metrics of cleaned monolithic chips in the following steps. Here we perform a **Monte-Carlo simulation** with a **Kernel Density Estimation** probabilistic model on every processor.\n",
    "\n",
    "We have 5 semiconductor manufacturing parameters that significantly impact the overall carbon emission of processors, including:\n",
    "\n",
    "- **Defective Density (dd)**: The ratio of actual fabricated faulty chips to functional chips, which is heavily depend on the *Process Node* applied. \n",
    "- **Gas per Area (gpa)**: The factor estimating the $CO_2$ emission per unit area.\n",
    "- **Energy per Area (epa)**: The factor estimating the energy consumption per unit area. *Process Node* will also greatly impact this value.\n",
    "- **Process Node (nm)**: The size of the process node in nanometers.\n",
    "- **Carbon Intensity (ci)**: The sustainability estimation factor of the used energy/electricity source in terms of $CO_2$ emission per kWh.\n",
    "\n",
    "We have detailed explanation and discussion of how the following probabilistic distribution is calculated / obtained in our paper. Please refer to the paper if any questions raised.  "
   ]
  },
  {
   "cell_type": "code",
   "execution_count": 7,
   "metadata": {},
   "outputs": [],
   "source": [
    "# Generate the probabilistic modeled parameters for Carbon Footprint calculation\n",
    "# Assume 10k sample size for each parameter\n",
    "sample_size = 10000\n",
    "carbon_intensity_distribution = [0.03125,0.03125,0.03125,0.03125,0.01041667,0.01041667,0.01041667,0.01041663,0.01041667,\n",
    "                    0.01041667,0.01041667,0.01041667,0.01041667,0.01041667,0.01041667,\n",
    "                    0.01041667,0.04166667,0.04166667,0.04166667,0.04166667,\n",
    "                    0.02083333,0.02083333,0.02083333,0.02083333,0.0625,0.0625,\n",
    "                    0.0625,0.0625,0.0625,0.0625,0.0625,0.0625]\n",
    "carbon_intensity_sequence = np.random.choice(np.arange(480.8486,546.7014,2.057901), size=sample_size, replace=True, p = carbon_intensity_distribution)\n",
    "\n",
    "gpa_mean=150\n",
    "gpa_std=30\n",
    "\n",
    "gpa_sequence = np.random.normal(gpa_mean, gpa_std, sample_size)\n",
    "gpa_sequence = np.clip(gpa_sequence,50,300)\n",
    "\n",
    "\n",
    "# We use the estimated reference values of defective density and EPA in very process node to model the complete sequence \n",
    "defective_density_reference =  {\"7\": 0.2, \"10\": 0.11, \"14\":0.09, \"22\": 0.08, \"28\":0.07, \"65\":0.05}\n",
    "epa_reference =  {\"7\": 1.667, \"10\": 1.475, \"14\":1.2, \"22\": 1.2, \"28\":0.9}\n",
    "\n",
    "epa_distribution = [0.092478422,0.09864365,\n",
    "                    0.101726264,0.103575832,0.101726264,0.097410604,\n",
    "                    0.091245376,0.08323058,0.073982737,0.061652281,\n",
    "                    0.048088779,0.033908755,0.012330456,]\n",
    "\n",
    "defective_density_distribution=[0.1125,0.1125,0.1125,0.1125,0.1125,0.05,0.05,0.05,0.05,0.05,\n",
    "    0.0125,0.0125,0.0125,0.0125,0.0125,0.0125,0.0125,0.0125,\n",
    "    0.0125,0.0125,0.0125,0.0125,0.0125,0.0125,0.0125,]\n",
    "\n",
    "def probabilistic_model(reference, p, stride = 25, d1 = None, d2 = None):\n",
    "    d1 = 0.11 - 0.095\n",
    "    d2 = 0.42 - 0.11\n",
    "    defect_distribution = dict()\n",
    "    for node in reference:\n",
    "        defect_bench = defective_density_reference[node]\n",
    "        start = defect_bench - d1\n",
    "        end = defect_bench + d2\n",
    "        step = (end - start) / stride\n",
    "        defect_distribution[node] = np.random.choice(np.arange(start, end, step), size=sample_size, replace=True, p=p)\n",
    "    return defect_distribution\n",
    "\n",
    "\n",
    "def highest_probability(result):\n",
    "    unique_values, counts = np.unique(result, return_counts=True)\n",
    "    probabilities = counts / len(result)  # Convert frequency models to probabilities\n",
    "    # Find the maximum probability and its corresponding value\n",
    "    max_prob_index = np.argmax(probabilities)\n",
    "    max_prob_value = unique_values[max_prob_index]\n",
    "    max_prob = probabilities[max_prob_index]\n",
    "\n",
    "    return max_prob_value, max_prob\n"
   ]
  },
  {
   "cell_type": "code",
   "execution_count": 8,
   "metadata": {},
   "outputs": [
    {
     "data": {
      "image/png": "[encoded data removed]",
      "text/plain": [
       "<Figure size 1200x400 with 4 Axes>"
      ]
     },
     "metadata": {},
     "output_type": "display_data"
    }
   ],
   "source": [
    "# lets plot the actual modeled distribution of all the parameters mentioned above with sample process node = 7nm\n",
    "defective_density_sequence = probabilistic_model(defective_density_reference, defective_density_distribution)\n",
    "epa_sequence = probabilistic_model(epa_reference, epa_distribution, stride = 13, d1 = 0.575, d2 = 0.025)\n",
    "node = '10'\n",
    "plt.figure(figsize=(12, 4))\n",
    "\n",
    "plt.subplot(1, 4, 1)\n",
    "plt.hist(defective_density_sequence[node], bins=20, alpha=0.7, color='b')\n",
    "plt.xlabel('Defect Density')\n",
    "plt.ylabel('Frequency')\n",
    "plt.title('Histogram of Defect Density')\n",
    "\n",
    "# Plot histogram for gpa_sequence\n",
    "plt.subplot(1, 4, 2)\n",
    "plt.hist(gpa_sequence, bins=20, alpha=0.7, color='r')\n",
    "plt.xlabel('GPA Values')\n",
    "plt.ylabel('Frequency')\n",
    "plt.title('Histogram of GPA Values')\n",
    "\n",
    "# Plot histogram for ci_model\n",
    "plt.subplot(1, 4, 3)\n",
    "plt.hist(carbon_intensity_sequence, bins=20, alpha=0.7, color='g')\n",
    "plt.xlabel('Carbon Intensity')\n",
    "plt.ylabel('Frequency')\n",
    "plt.title('Histogram of Carbon Intensity')\n",
    "\n",
    "\n",
    "plt.subplot(1, 4, 4)\n",
    "plt.hist(epa_sequence[node], bins=20, alpha=0.7, color='g')\n",
    "plt.xlabel('EPA')\n",
    "plt.ylabel('Frequency')\n",
    "plt.title('Histogram of EPA')\n",
    "\n",
    "plt.tight_layout()\n",
    "plt.show()"
   ]
  },
  {
   "cell_type": "markdown",
   "metadata": {},
   "source": [
    "### Carbon Footprint Calculation using ECO-CHIP\n",
    " \n",
    "[ECO-CHIP](https://github.com/ASU-VDA-Lab/ECO-CHIP) is a chip carbon footprint modeling framework based on the chip interconnect, power, area, and above 5 parameters. \n",
    "For every processor, we will calculate the minimum and maximum CFPs and eventually calculate the expected (mean) CFP value as the most representable CFP value of this processor. The min/max CFP can be directly derived using the min/max of input parameters.\n"
   ]
  },
  {
   "cell_type": "code",
   "execution_count": 17,
   "metadata": {},
   "outputs": [],
   "source": [
    "# Add the eco_chip_enhanced folder to the system path\n",
    "sys.path.append(os.path.join(os.getcwd(), \"../eco_chip_enhanced/\"))\n",
    "\n",
    "# Import the eco_chip function from the eco_chip_func module\n",
    "from eco_chip_func import eco_chip\n",
    "\n",
    "def get_cfp(process_node, power, area, defective_density, gpa, carbon_intensity, epa, dir = None):\n",
    "    # Calculate the Carbon Footprint (CFP) for the given processor\n",
    "    if dir is None:\n",
    "        dir = 'testcases/CFP_survey/'\n",
    "    args = argparse.Namespace(\n",
    "        design_dir = dir,\n",
    "        chip_area = area,\n",
    "        chip_power = power,\n",
    "        node = process_node,\n",
    "        defect_density = defective_density,\n",
    "        gpa = gpa, \n",
    "        epa = epa,\n",
    "        num_lifetime=None,\n",
    "        tech_scaling_path='../eco_chip_enhanced/',\n",
    "        carbon_intensity = carbon_intensity\n",
    "    )\n",
    "\n",
    "    # we have design carbon, manufacturing carbon, operational carbon and total carbon\n",
    "    design_carbon, mfg_carbon, ope_carbon, total_carbon = eco_chip(args)\n",
    "    embodied_carbon = float(design_carbon) + float(mfg_carbon)\n",
    "    operational_carbon = float(ope_carbon)\n",
    "    total_carbon = float(total_carbon)\n",
    "    \n",
    "    return embodied_carbon, operational_carbon, total_carbon\n"
   ]
  },
  {
   "cell_type": "code",
   "execution_count": 8,
   "metadata": {},
   "outputs": [],
   "source": [
    "def calculate_min_max_cfp():\n",
    "    for idx, proc in cleaned_processors.iterrows():\n",
    "        node = int(proc['Process Size (nm)'])\n",
    "        power = int(proc['TDP (W)'])\n",
    "        area = int(proc['DieSizeValue'])\n",
    "        # calculate the minimum CFP values\n",
    "        defective_density = defective_density_sequence[str(node)].min()\n",
    "        epa = epa_sequence[str(node)].min()\n",
    "        gpa = gpa_sequence.min()  \n",
    "        carbon_intensity = carbon_intensity_sequence.min()     \n",
    "        embodied_carbon_min, operational_carbon_min, total_carbon_min = get_cfp(node, power, area, defective_density, gpa, carbon_intensity, epa)\n",
    "        # update the cleaned processor dataframe\n",
    "        cleaned_processors.at[idx, 'Emb_Carbon_Min'] = embodied_carbon_min\n",
    "        cleaned_processors.at[idx, 'Ope_Carbon_Min'] = operational_carbon_min\n",
    "        cleaned_processors.at[idx, 'Tot_Carbon_Min'] = total_carbon_min\n",
    "        \n",
    "        # calculate the maximum CFP values\n",
    "        defective_density = defective_density_sequence[str(node)].max()\n",
    "        epa = epa_sequence[str(node)].max()\n",
    "        gpa = gpa_sequence.max()  \n",
    "        carbon_intensity = carbon_intensity_sequence.max()     \n",
    "        embodied_carbon_max, operational_carbon_max, total_carbon_max = get_cfp(node, power, area, defective_density, gpa, carbon_intensity, epa)\n",
    "        \n",
    "        cleaned_processors.at[idx, 'Emb_Carbon_Max'] = embodied_carbon_max\n",
    "        cleaned_processors.at[idx, 'Ope_Carbon_Max'] = operational_carbon_max\n",
    "        cleaned_processors.at[idx, 'Tot_Carbon_Max'] = total_carbon_max"
   ]
  },
  {
   "cell_type": "code",
   "execution_count": null,
   "metadata": {},
   "outputs": [],
   "source": [
    "# Calculate the min/max CFP values\n",
    "calculate_min_max_cfp()"
   ]
  },
  {
   "cell_type": "markdown",
   "metadata": {},
   "source": [
    "### Mean CFP Calculation\n",
    "\n",
    "In this part, we will calculate the mean CFP value for every processor in our cleaned dataset. For each processor, we will calculate every possible CFP value using the combination of 5 input parameters with a size of *sample_size*. \n",
    "\n",
    "A good point of the *Monte-Carlo* simulation is that here, we only require *sample size* runs in total rather than *sample size^5*. Since all the input parameters are independent, iterating every permutation of these parameters has the exact same effect as just using the *sample_size* samples directly. \n",
    "\n",
    "Statistically speaking, every parameter sequence is generated randomly without any order. Therefore, directly combining them in a sequential manner to form a *sample_size* group of input parameters is exactly the same operation as iterating every permutation of the *sample_size^5* space. The final simulation result of the two methods will converge to a certain value with increased sample size.\n",
    "\n",
    "**The overall runtime of mean CFP calculation will be significantly longer than the previous min/max CFP calculation. We highly suggest you follow the Monte-Carlo method we proposed here rather than using the conventional brute-force 'permutation' method, which usually takes hours to days based on our experiences.**"
   ]
  },
  {
   "cell_type": "code",
   "execution_count": 37,
   "metadata": {},
   "outputs": [],
   "source": [
    "# this function will calculate the mean CFP value of every processor\n",
    "def calculate_mean_cfp(idx, proc, dir = None):\n",
    "    node = int(proc['Process Size (nm)'])\n",
    "    power = int(proc['TDP (W)'])\n",
    "    area = int(proc['Avg Die Area'])\n",
    "\n",
    "    # area = int(proc['DieSizeValue'])\n",
    "    \n",
    "    embodied_carbon_list = np.zeros(sample_size)\n",
    "    operational_carbon_list = np.zeros(sample_size)\n",
    "    \n",
    "    for i in range(sample_size):\n",
    "        emb_c, ope_c, tot_c = get_cfp(node, power, area, defective_density_sequence[str(node)][i],\n",
    "                                        gpa_sequence[i], carbon_intensity_sequence[i], epa_sequence[str(node)][i], dir = dir)\n",
    "        embodied_carbon_list[i] = emb_c\n",
    "        operational_carbon_list[i] = ope_c\n",
    "        \n",
    "        \n",
    "    embodied_carbon_mean = embodied_carbon_list.mean()\n",
    "    operational_carbon_mean = operational_carbon_list.mean()\n",
    "    total_carbon_mean = embodied_carbon_mean + operational_carbon_mean\n",
    "    \n",
    "    \n",
    "    return idx, embodied_carbon_mean, operational_carbon_mean, total_carbon_mean        "
   ]
  },
  {
   "cell_type": "markdown",
   "metadata": {},
   "source": [
    "# H100 extrapolation DELETE "
   ]
  },
  {
   "cell_type": "code",
   "execution_count": 17,
   "metadata": {},
   "outputs": [
    {
     "name": "stdout",
     "output_type": "stream",
     "text": [
      "H100 - ECFP:83.14826084645502 OCFP: 556.004367134895 Tot CFP: 639.1526279813501\n"
     ]
    }
   ],
   "source": [
    "node = 7\n",
    "power = 700\n",
    "area = 814\n",
    "\n",
    "embodied_carbon_list = np.zeros(sample_size)\n",
    "operational_carbon_list = np.zeros(sample_size)\n",
    "\n",
    "for i in range(sample_size):\n",
    "    emb_c, ope_c, tot_c = get_cfp(node, power, area, defective_density_sequence[str(node)][i],\n",
    "                                    gpa_sequence[i], carbon_intensity_sequence[i], epa_sequence[str(node)][i])\n",
    "    embodied_carbon_list[i] = emb_c\n",
    "    operational_carbon_list[i] = ope_c\n",
    "    \n",
    "    \n",
    "embodied_carbon_mean = embodied_carbon_list.mean()\n",
    "operational_carbon_mean = operational_carbon_list.mean()\n",
    "total_carbon_mean = embodied_carbon_mean + operational_carbon_mean\n",
    "\n",
    "print(f\"H100 - ECFP:{embodied_carbon_mean} OCFP: {operational_carbon_mean} Tot CFP: {total_carbon_mean}\")"
   ]
  },
  {
   "cell_type": "code",
   "execution_count": 11,
   "metadata": {},
   "outputs": [],
   "source": [
    "import time, joblib\n",
    "\n",
    "start = time.time()\n",
    "\n",
    "results = joblib.Parallel(n_jobs= -1)(\n",
    "    joblib.delayed(calculate_mean_cfp)(idx, proc) \n",
    "    for idx, proc in cleaned_processors.iterrows())\n",
    "\n",
    "print(f\"Execution Time: {time.time() - start:.2f} seconds\")\n"
   ]
  },
  {
   "cell_type": "code",
   "execution_count": 12,
   "metadata": {},
   "outputs": [],
   "source": [
    "for idx, emb_mean, ope_mean, tot_mean in results:\n",
    "    cleaned_processors.at[idx, 'Emb_Carbon_Mean'] = emb_mean\n",
    "    cleaned_processors.at[idx, 'Ope_Carbon_Mean'] = ope_mean\n",
    "    cleaned_processors.at[idx, 'Tot_Carbon_Mean'] = tot_mean\n",
    "\n",
    "\n",
    "cleaned_processors.to_csv(\"CarbonSet.csv\", index=False)"
   ]
  },
  {
   "cell_type": "markdown",
   "metadata": {},
   "source": [
    "### Chiplet Processor CFP Modeling\n",
    "\n",
    "In this part, we will calculate the mean CFP value for Chiplet processors in our cleaned dataset. Ideally, chiplet processors have lower carbon emission due to their smaller single die size with higher manufacturing yield and less waste.\n",
    "\n",
    "We follow the same procedure of modeling monolithic processors, with 2 new assumptions\n",
    "\n",
    "**1. The total chip area is averaged across each die, which means each chiplet/separate die has exactly the same die area.**\n",
    "\n",
    "**2. Due to the unrevealed tech parameters of each processor, we assume every chiplet is fabricated in same tech node. In other words, although practically only the compute die is fabricated using newest process node, here we assume all the chiplets/dies have the same most advanced process node**"
   ]
  },
  {
   "cell_type": "code",
   "execution_count": 9,
   "metadata": {},
   "outputs": [],
   "source": [
    "chiplet_processors = pd.read_csv(\"chiplet_processors.csv\")\n",
    "# chiplet_processors[['#dies','Avg Die Area']] = chiplet_processors['Die Size (mm^2)'].str.extract(r'(\\d+)\\s*x\\s*(\\d+)')"
   ]
  },
  {
   "cell_type": "code",
   "execution_count": 19,
   "metadata": {},
   "outputs": [
    {
     "name": "stdout",
     "output_type": "stream",
     "text": [
      "Execution Time: 92.26 seconds\n"
     ]
    }
   ],
   "source": [
    "import time, joblib\n",
    "\n",
    "start = time.time()\n",
    "\n",
    "results = joblib.Parallel(n_jobs= -1)(\n",
    "    joblib.delayed(get_chiplet_cfp)(idx, proc) \n",
    "    for idx, proc in chiplet_processors.iterrows())\n",
    "\n",
    "print(f\"Execution Time: {time.time() - start:.2f} seconds\")\n",
    "\n"
   ]
  },
  {
   "cell_type": "code",
   "execution_count": 21,
   "metadata": {},
   "outputs": [],
   "source": [
    "for idx, emb_mean, ope_mean, tot_mean in results:\n",
    "    chiplet_processors.at[idx, 'Emb CFP'] = emb_mean\n",
    "    chiplet_processors.at[idx, 'Ope CFP'] = ope_mean\n",
    "    chiplet_processors.at[idx, 'Tot CFP'] = tot_mean\n",
    "\n",
    "chiplet_processors.to_csv(\"chiplet_processors.csv\", index=False)\n"
   ]
  }
 ],
 "metadata": {
  "kernelspec": {
   "display_name": "base",
   "language": "python",
   "name": "python3"
  },
  "language_info": {
   "codemirror_mode": {
    "name": "ipython",
    "version": 3
   },
   "file_extension": ".py",
   "mimetype": "text/x-python",
   "name": "python",
   "nbconvert_exporter": "python",
   "pygments_lexer": "ipython3",
   "version": "3.11.4"
  }
 },
 "nbformat": 4,
 "nbformat_minor": 2
}
