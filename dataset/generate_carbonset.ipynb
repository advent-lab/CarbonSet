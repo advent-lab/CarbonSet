{
 "cells": [
  {
   "cell_type": "code",
   "execution_count": 1,
   "metadata": {},
   "outputs": [],
   "source": [
    "import numpy as np\n",
    "import matplotlib.pyplot as plt\n",
    "import pandas as pd\n",
    "import sys, os, argparse"
   ]
  },
  {
   "cell_type": "markdown",
   "metadata": {},
   "source": [
    "### Data Cleaning Workflow\n",
    "\n",
    "1. **Read the Original Processor Dataset**:\n",
    "    - The dataset contains various details about processors, including:\n",
    "      - Product Type\n",
    "      - Processor Name\n",
    "      - Process Node\n",
    "      - Die Area\n",
    "      - TDP\n",
    "\n",
    "2. **Clean Up the Dataset**:\n",
    "    - Remove unnecessary columns and keep only the relevant ones:\n",
    "      - Processor Type\n",
    "      - Processor Name\n",
    "      - Process Node\n",
    "      - Die Area\n",
    "      - TDP\n",
    "\n",
    "3. **Filter OutProcessors**:\n",
    "    - Currently, *ECO-CHIP* and *CarbonSet* only supports monolithic chips, we partition the processors into *monolithic* and *chiplet* processors.\n",
    "    - We further partition the GPUs and CPUs to separate datasets."
   ]
  },
  {
   "cell_type": "code",
   "execution_count": 2,
   "metadata": {},
   "outputs": [
    {
     "name": "stderr",
     "output_type": "stream",
     "text": [
      "/tmp/ipykernel_80918/2234529275.py:5: FutureWarning: Downcasting behavior in `replace` is deprecated and will be removed in a future version. To retain the old behavior, explicitly call `result.infer_objects(copy=False)`. To opt-in to the future behavior, set `pd.set_option('future.no_silent_downcasting', True)`\n",
      "  original_processors[columns_to_check] = original_processors[columns_to_check].replace([0,'unknown'], np.nan, )\n"
     ]
    }
   ],
   "source": [
    "original_processors = pd.read_excel(\"DataSetWithRelaventNodesArea.xlsx\")\n",
    "# Define columns to check for missing/zero values (excluding GFLOPS columns)\n",
    "columns_to_check = [col for col in original_processors.columns if 'GFLOPS' not in col]\n",
    "# Replace zero values with NaN for non-GFLOPS columns\n",
    "original_processors[columns_to_check] = original_processors[columns_to_check].replace([0,'unknown'], np.nan, )\n",
    "# Drop rows with any NaN values in the specified columns\n",
    "cleaned_processors = original_processors.dropna(subset=columns_to_check)\n",
    "cleaned_processors = cleaned_processors.drop(columns=[col for col in cleaned_processors.columns if 'GFLOPS' in col])"
   ]
  },
  {
   "cell_type": "code",
   "execution_count": 3,
   "metadata": {},
   "outputs": [],
   "source": [
    "# Identify chiplet processors where DieSizeValue differs from Die Size\n",
    "chiplet_mask = cleaned_processors['DieSizeValue'] != cleaned_processors['Die Size (mm^2)']\n",
    "# Get chiplet processors\n",
    "chiplet_processors = cleaned_processors[chiplet_mask]\n",
    "# Get non-chiplet processors\n",
    "monolithic_processors = cleaned_processors[~chiplet_mask]\n",
    "chiplet_processors.to_csv(\"chiplet_processors.csv\", index=False)\n",
    "monolithic_processors.to_csv(\"monolithic_processors.csv\", index=False)\n",
    "# further partition the monolithic processors into GPUs and CPUs\n",
    "gpu_processors = monolithic_processors[monolithic_processors['Type'] == 'GPU']\n",
    "cpu_processors = monolithic_processors[monolithic_processors['Type'] == 'CPU']\n",
    "gpu_processors.to_csv(\"gpu_processors.csv\", index=False)     \n",
    "cpu_processors.to_csv(\"cpu_processors.csv\", index=False)"
   ]
  },
  {
   "cell_type": "markdown",
   "metadata": {},
   "source": [
    "### Sustainable Metrics Generation for Cleaned Monolithic Chips\n",
    "\n",
    "We can now further generate the sustainable metrics of cleaned monolithic chips in the following steps. Here we perform a **Monte-Carlo simulation** with a **Kernel Density Estimation** probabilistic model on every processor.\n",
    "\n",
    "We have 5 semiconductor manufacturing parameters that significantly impact the overall carbon emission of processors, including:\n",
    "\n",
    "- **Defective Density (dd)**: The ratio of actual fabricated faulty chips to functional chips, which is heavily depend on the *Process Node* applied. \n",
    "- **Gas per Area (gpa)**: The factor estimating the $CO_2$ emission per unit area.\n",
    "- **Energy per Area (epa)**: The factor estimating the energy consumption per unit area. *Process Node* will also greatly impact this value.\n",
    "- **Process Node (nm)**: The size of the process node in nanometers.\n",
    "- **Carbon Intensity (ci)**: The sustainability estimation factor of the used energy/electricity source in terms of $CO_2$ emission per kWh.\n",
    "\n",
    "We have detailed explanation and discussion of how the following probabilistic distribution is calculated / obtained in our paper. Please refer to the paper if any questions raised.  "
   ]
  },
  {
   "cell_type": "code",
   "execution_count": 4,
   "metadata": {},
   "outputs": [],
   "source": [
    "# Generate the probabilistic modeled parameters for Carbon Footprint calculation\n",
    "# Assume 10k sample size for each parameter\n",
    "sample_size = 10000\n",
    "carbon_intensity_distribution = [0.03125,0.03125,0.03125,0.03125,0.01041667,0.01041667,0.01041667,0.01041663,0.01041667,\n",
    "                    0.01041667,0.01041667,0.01041667,0.01041667,0.01041667,0.01041667,\n",
    "                    0.01041667,0.04166667,0.04166667,0.04166667,0.04166667,\n",
    "                    0.02083333,0.02083333,0.02083333,0.02083333,0.0625,0.0625,\n",
    "                    0.0625,0.0625,0.0625,0.0625,0.0625,0.0625]\n",
    "carbon_intensity_sequence = np.random.choice(np.arange(480.8486,546.7014,2.057901), size=sample_size, replace=True, p = carbon_intensity_distribution)\n",
    "\n",
    "gpa_mean=150\n",
    "gpa_std=30\n",
    "\n",
    "gpa_sequence = np.random.normal(gpa_mean, gpa_std, sample_size)\n",
    "gpa_sequence = np.clip(gpa_sequence,50,300)\n",
    "\n",
    "\n",
    "# We use the estimated reference values of defective density and EPA in very process node to model the complete sequence \n",
    "defective_density_reference =  {\"7\": 0.2, \"10\": 0.11, \"14\":0.09, \"22\": 0.08, \"28\":0.07, \"65\":0.05}\n",
    "epa_reference =  {\"7\": 2.15, \"10\": 1.475, \"14\":1.2, \"22\": 1.2, \"28\":0.9}\n",
    "\n",
    "epa_distribution = [0.092478422,0.09864365,\n",
    "                    0.101726264,0.103575832,0.101726264,0.097410604,\n",
    "                    0.091245376,0.08323058,0.073982737,0.061652281,\n",
    "                    0.048088779,0.033908755,0.012330456,]\n",
    "\n",
    "defective_density_distribution=[0.1125,0.1125,0.1125,0.1125,0.1125,0.05,0.05,0.05,0.05,0.05,\n",
    "    0.0125,0.0125,0.0125,0.0125,0.0125,0.0125,0.0125,0.0125,\n",
    "    0.0125,0.0125,0.0125,0.0125,0.0125,0.0125,0.0125,]\n",
    "\n",
    "def probabilistic_model(reference, p, stride = 25, d1 = None, d2 = None):\n",
    "    d1 = 0.11 - 0.095\n",
    "    d2 = 0.42 - 0.11\n",
    "    defect_distribution = dict()\n",
    "    for node in reference:\n",
    "        defect_bench = defective_density_reference[node]\n",
    "        start = defect_bench - d1\n",
    "        end = defect_bench + d2\n",
    "        step = (end - start) / stride\n",
    "        defect_distribution[node] = np.random.choice(np.arange(start, end, step), size=sample_size, replace=True, p=p)\n",
    "    return defect_distribution\n",
    "\n",
    "\n",
    "def highest_probability(result):\n",
    "    unique_values, counts = np.unique(result, return_counts=True)\n",
    "    probabilities = counts / len(result)  # Convert frequency models to probabilities\n",
    "    # Find the maximum probability and its corresponding value\n",
    "    max_prob_index = np.argmax(probabilities)\n",
    "    max_prob_value = unique_values[max_prob_index]\n",
    "    max_prob = probabilities[max_prob_index]\n",
    "\n",
    "    return max_prob_value, max_prob\n"
   ]
  },
  {
   "cell_type": "code",
   "execution_count": 5,
   "metadata": {},
   "outputs": [
    {
     "data": {
      "image/png": "[encoded data removed]",
      "text/plain": [
       "<Figure size 1200x400 with 4 Axes>"
      ]
     },
     "metadata": {},
     "output_type": "display_data"
    }
   ],
   "source": [
    "# lets plot the actual modeled distribution of all the parameters mentioned above with sample process node = 7nm\n",
    "defective_density_sequence = probabilistic_model(defective_density_reference, defective_density_distribution)\n",
    "epa_sequence = probabilistic_model(epa_reference, epa_distribution, stride = 13, d1 = 0.575, d2 = 0.025)\n",
    "node = '10'\n",
    "plt.figure(figsize=(12, 4))\n",
    "\n",
    "plt.subplot(1, 4, 1)\n",
    "plt.hist(defective_density_sequence[node], bins=20, alpha=0.7, color='b')\n",
    "plt.xlabel('Defect Density')\n",
    "plt.ylabel('Frequency')\n",
    "plt.title('Histogram of Defect Density')\n",
    "\n",
    "# Plot histogram for gpa_sequence\n",
    "plt.subplot(1, 4, 2)\n",
    "plt.hist(gpa_sequence, bins=20, alpha=0.7, color='r')\n",
    "plt.xlabel('GPA Values')\n",
    "plt.ylabel('Frequency')\n",
    "plt.title('Histogram of GPA Values')\n",
    "\n",
    "# Plot histogram for ci_model\n",
    "plt.subplot(1, 4, 3)\n",
    "plt.hist(carbon_intensity_sequence, bins=20, alpha=0.7, color='g')\n",
    "plt.xlabel('Carbon Intensity')\n",
    "plt.ylabel('Frequency')\n",
    "plt.title('Histogram of Carbon Intensity')\n",
    "\n",
    "\n",
    "plt.subplot(1, 4, 4)\n",
    "plt.hist(epa_sequence[node], bins=20, alpha=0.7, color='g')\n",
    "plt.xlabel('EPA')\n",
    "plt.ylabel('Frequency')\n",
    "plt.title('Histogram of EPA')\n",
    "\n",
    "plt.tight_layout()\n",
    "plt.show()"
   ]
  },
  {
   "cell_type": "markdown",
   "metadata": {},
   "source": [
    "### Carbon Footprint Calculation using ECO-CHIP\n",
    " \n",
    "[ECO-CHIP](https://github.com/ASU-VDA-Lab/ECO-CHIP) is a chip carbon footprint modeling framework based on the chip interconnect, power, area, and above 5 parameters. It supports chiplet modeling; however, the separated chiplet processors lack some key values such as the process node of I/O and memory dies and their actual die size. A detailed model of chiplet processors may be possible but is out of this study's angle.\n",
    "\n",
    "For every processor, we will calculate the minimum and maximum CFPs and eventually calculate the expected (mean) CFP value as the most representable CFP value of this processor. The min/max CFP can be directly derived using the min/max of input parameters.\n"
   ]
  },
  {
   "cell_type": "code",
   "execution_count": 7,
   "metadata": {},
   "outputs": [],
   "source": [
    "# Add the eco_chip_enhanced folder to the system path\n",
    "sys.path.append(os.path.join(os.getcwd(), \"../eco_chip_enhanced/\"))\n",
    "\n",
    "# Import the eco_chip function from the eco_chip_func module\n",
    "from eco_chip_func import eco_chip\n",
    "\n",
    "def get_cfp(process_node, power, area, defective_density, gpa, carbon_intensity, epa):\n",
    "    # Calculate the Carbon Footprint (CFP) for the given processor\n",
    "    args = argparse.Namespace(\n",
    "        design_dir = 'testcases/CFP_survey/',\n",
    "        chip_area = area,\n",
    "        chip_power = power,\n",
    "        node = process_node,\n",
    "        defect_density = defective_density,\n",
    "        gpa = gpa, \n",
    "        epa = epa,\n",
    "        num_lifetime=None,\n",
    "        tech_scaling_path='../eco_chip_enhanced/',\n",
    "        carbon_intensity = carbon_intensity\n",
    "    )\n",
    "\n",
    "    # we have design carbon, manufacturing carbon, operational carbon and total carbon\n",
    "    design_carbon, mfg_carbon, ope_carbon, total_carbon = eco_chip(args)\n",
    "    embodied_carbon = float(design_carbon) + float(mfg_carbon)\n",
    "    operational_carbon = float(ope_carbon)\n",
    "    total_carbon = float(total_carbon)\n",
    "    \n",
    "    return embodied_carbon, operational_carbon, total_carbon\n"
   ]
  },
  {
   "cell_type": "code",
   "execution_count": 8,
   "metadata": {},
   "outputs": [],
   "source": [
    "def calculate_min_max_cfp():\n",
    "    for idx, proc in cleaned_processors.iterrows():\n",
    "        node = int(proc['Process Size (nm)'])\n",
    "        power = int(proc['TDP (W)'])\n",
    "        area = int(proc['DieSizeValue'])\n",
    "        # calculate the minimum CFP values\n",
    "        defective_density = defective_density_sequence[str(node)].min()\n",
    "        epa = epa_sequence[str(node)].min()\n",
    "        gpa = gpa_sequence.min()  \n",
    "        carbon_intensity = carbon_intensity_sequence.min()     \n",
    "        embodied_carbon_min, operational_carbon_min, total_carbon_min = get_cfp(node, power, area, defective_density, gpa, carbon_intensity, epa)\n",
    "        # update the cleaned processor dataframe\n",
    "        cleaned_processors.at[idx, 'Emb_Carbon_Min'] = embodied_carbon_min\n",
    "        cleaned_processors.at[idx, 'Ope_Carbon_Min'] = operational_carbon_min\n",
    "        cleaned_processors.at[idx, 'Tot_Carbon_Min'] = total_carbon_min\n",
    "        \n",
    "        # calculate the maximum CFP values\n",
    "        defective_density = defective_density_sequence[str(node)].max()\n",
    "        epa = epa_sequence[str(node)].max()\n",
    "        gpa = gpa_sequence.max()  \n",
    "        carbon_intensity = carbon_intensity_sequence.max()     \n",
    "        embodied_carbon_max, operational_carbon_max, total_carbon_max = get_cfp(node, power, area, defective_density, gpa, carbon_intensity, epa)\n",
    "        \n",
    "        cleaned_processors.at[idx, 'Emb_Carbon_Max'] = embodied_carbon_max\n",
    "        cleaned_processors.at[idx, 'Ope_Carbon_Max'] = operational_carbon_max\n",
    "        cleaned_processors.at[idx, 'Tot_Carbon_Max'] = total_carbon_max\n",
    "        "
   ]
  },
  {
   "cell_type": "code",
   "execution_count": null,
   "metadata": {},
   "outputs": [],
   "source": [
    "cleaned_processors"
   ]
  },
  {
   "cell_type": "code",
   "execution_count": 9,
   "metadata": {},
   "outputs": [],
   "source": [
    "calculate_min_max_cfp()"
   ]
  },
  {
   "cell_type": "code",
   "execution_count": null,
   "metadata": {},
   "outputs": [],
   "source": [
    "cleaned_processors"
   ]
  },
  {
   "cell_type": "markdown",
   "metadata": {},
   "source": [
    "### Mean CFP Calculation\n",
    "\n",
    "In this part, we will calculate the mean CFP value for every processor in our cleaned dataset. For each processor, we will calculate every possible CFP value using the combination of 5 input parameters with a size of *sample_size*. \n",
    "\n",
    "A good point of the *Monte-Carlo* simulation is that here, we only require *sample size* runs in total rather than *sample size^5*. Since all the input parameters are independent, iterating every permutation of these parameters has the exact same effect as just using the *sample_size* samples directly. \n",
    "\n",
    "Statistically speaking, every parameter sequence is generated randomly without any order. Therefore, directly combining them in a sequential manner to form a *sample_size* group of input parameters is exactly the same operation as iterating every permutation of the *sample_size^5* space. The final simulation result of the two methods will converge to a certain value with increased sample size.\n",
    "\n",
    "**The overall runtime of mean CFP calculation will be significantly longer than the previous min/max CFP calculation. We highly suggest you follow the Monte-Carlo method we proposed here rather than using the conventional brute-force 'permutation' method, which usually takes hours to days based on our experiences.**"
   ]
  },
  {
   "cell_type": "code",
   "execution_count": 10,
   "metadata": {},
   "outputs": [],
   "source": [
    "# this function will calculate the mean CFP value of every processor\n",
    "def calculate_mean_cfp(idx, proc):\n",
    "    node = int(proc['Process Size (nm)'])\n",
    "    power = int(proc['TDP (W)'])\n",
    "    area = int(proc['DieSizeValue'])\n",
    "    \n",
    "    embodied_carbon_list = np.zeros(sample_size)\n",
    "    operational_carbon_list = np.zeros(sample_size)\n",
    "    \n",
    "    for i in range(sample_size):\n",
    "        emb_c, ope_c, tot_c = get_cfp(node, power, area, defective_density_sequence[str(node)][i],\n",
    "                                        gpa_sequence[i], carbon_intensity_sequence[i], epa_sequence[str(node)][i])\n",
    "        embodied_carbon_list[i] = emb_c\n",
    "        operational_carbon_list[i] = ope_c\n",
    "        \n",
    "        \n",
    "    embodied_carbon_mean = embodied_carbon_list.mean()\n",
    "    operational_carbon_mean = operational_carbon_list.mean()\n",
    "    total_carbon_mean = embodied_carbon_mean + operational_carbon_mean\n",
    "    \n",
    "    \n",
    "    return idx, embodied_carbon_mean, operational_carbon_mean, total_carbon_mean        "
   ]
  },
  {
   "cell_type": "code",
   "execution_count": 11,
   "metadata": {},
   "outputs": [
    {
     "data": {
      "application/vnd.microsoft.datawrangler.viewer.v0+json": {
       "columns": [
        {
         "name": "index",
         "rawType": "int64",
         "type": "integer"
        },
        {
         "name": "Product",
         "rawType": "object",
         "type": "string"
        },
        {
         "name": "Type",
         "rawType": "object",
         "type": "string"
        },
        {
         "name": "Release Date",
         "rawType": "datetime64[ns]",
         "type": "datetime"
        },
        {
         "name": "Process Size (nm)",
         "rawType": "float64",
         "type": "float"
        },
        {
         "name": "TDP (W)",
         "rawType": "float64",
         "type": "float"
        },
        {
         "name": "DieSizeValue",
         "rawType": "float64",
         "type": "float"
        },
        {
         "name": "Die Size (mm^2)",
         "rawType": "object",
         "type": "unknown"
        },
        {
         "name": "Transistors (million)",
         "rawType": "float64",
         "type": "float"
        },
        {
         "name": "Freq (GHz)",
         "rawType": "float64",
         "type": "float"
        },
        {
         "name": "Foundry",
         "rawType": "object",
         "type": "string"
        },
        {
         "name": "Vendor",
         "rawType": "object",
         "type": "string"
        },
        {
         "name": "Emb_Carbon_Min",
         "rawType": "float64",
         "type": "float"
        },
        {
         "name": "Ope_Carbon_Min",
         "rawType": "float64",
         "type": "float"
        },
        {
         "name": "Tot_Carbon_Min",
         "rawType": "float64",
         "type": "float"
        },
        {
         "name": "Emb_Carbon_Max",
         "rawType": "float64",
         "type": "float"
        },
        {
         "name": "Ope_Carbon_Max",
         "rawType": "float64",
         "type": "float"
        },
        {
         "name": "Tot_Carbon_Max",
         "rawType": "float64",
         "type": "float"
        }
       ],
       "conversionMethod": "pd.DataFrame",
       "ref": "d131c166-b88f-4b27-a3d5-fa3faa1559c3",
       "rows": [
        [
         "15",
         "Intel Core i5-3335S",
         "CPU",
         "2012-11-01 00:00:00",
         "22.0",
         "65.0",
         "160.0",
         "160",
         "1480.0",
         "2700.0",
         "Intel",
         "Intel",
         "1.3133272",
         "32.52397901",
         "33.83730621",
         "3.15473159",
         "36.83898585",
         "39.99371743"
        ]
       ],
       "shape": {
        "columns": 17,
        "rows": 1
       }
      },
      "text/html": [
       "<div>\n",
       "<style scoped>\n",
       "    .dataframe tbody tr th:only-of-type {\n",
       "        vertical-align: middle;\n",
       "    }\n",
       "\n",
       "    .dataframe tbody tr th {\n",
       "        vertical-align: top;\n",
       "    }\n",
       "\n",
       "    .dataframe thead th {\n",
       "        text-align: right;\n",
       "    }\n",
       "</style>\n",
       "<table border=\"1\" class=\"dataframe\">\n",
       "  <thead>\n",
       "    <tr style=\"text-align: right;\">\n",
       "      <th></th>\n",
       "      <th>Product</th>\n",
       "      <th>Type</th>\n",
       "      <th>Release Date</th>\n",
       "      <th>Process Size (nm)</th>\n",
       "      <th>TDP (W)</th>\n",
       "      <th>DieSizeValue</th>\n",
       "      <th>Die Size (mm^2)</th>\n",
       "      <th>Transistors (million)</th>\n",
       "      <th>Freq (GHz)</th>\n",
       "      <th>Foundry</th>\n",
       "      <th>Vendor</th>\n",
       "      <th>Emb_Carbon_Min</th>\n",
       "      <th>Ope_Carbon_Min</th>\n",
       "      <th>Tot_Carbon_Min</th>\n",
       "      <th>Emb_Carbon_Max</th>\n",
       "      <th>Ope_Carbon_Max</th>\n",
       "      <th>Tot_Carbon_Max</th>\n",
       "    </tr>\n",
       "  </thead>\n",
       "  <tbody>\n",
       "    <tr>\n",
       "      <th>15</th>\n",
       "      <td>Intel Core i5-3335S</td>\n",
       "      <td>CPU</td>\n",
       "      <td>2012-11-01</td>\n",
       "      <td>22.0</td>\n",
       "      <td>65.0</td>\n",
       "      <td>160.0</td>\n",
       "      <td>160</td>\n",
       "      <td>1480.0</td>\n",
       "      <td>2700.0</td>\n",
       "      <td>Intel</td>\n",
       "      <td>Intel</td>\n",
       "      <td>1.313327</td>\n",
       "      <td>32.523979</td>\n",
       "      <td>33.837306</td>\n",
       "      <td>3.154732</td>\n",
       "      <td>36.838986</td>\n",
       "      <td>39.993717</td>\n",
       "    </tr>\n",
       "  </tbody>\n",
       "</table>\n",
       "</div>"
      ],
      "text/plain": [
       "                Product Type Release Date  Process Size (nm)  TDP (W)  \\\n",
       "15  Intel Core i5-3335S  CPU   2012-11-01               22.0     65.0   \n",
       "\n",
       "    DieSizeValue Die Size (mm^2)  Transistors (million)  Freq (GHz) Foundry  \\\n",
       "15         160.0             160                 1480.0      2700.0   Intel   \n",
       "\n",
       "   Vendor  Emb_Carbon_Min  Ope_Carbon_Min  Tot_Carbon_Min  Emb_Carbon_Max  \\\n",
       "15  Intel        1.313327       32.523979       33.837306        3.154732   \n",
       "\n",
       "    Ope_Carbon_Max  Tot_Carbon_Max  \n",
       "15       36.838986       39.993717  "
      ]
     },
     "execution_count": 11,
     "metadata": {},
     "output_type": "execute_result"
    }
   ],
   "source": [
    "cleaned_processors[:1]"
   ]
  },
  {
   "cell_type": "code",
   "execution_count": 12,
   "metadata": {},
   "outputs": [
    {
     "ename": "KeyboardInterrupt",
     "evalue": "",
     "output_type": "error",
     "traceback": [
      "\u001b[0;31m---------------------------------------------------------------------------\u001b[0m",
      "\u001b[0;31mKeyboardInterrupt\u001b[0m                         Traceback (most recent call last)",
      "Cell \u001b[0;32mIn[12], line 5\u001b[0m\n\u001b[1;32m      1\u001b[0m \u001b[38;5;28;01mimport\u001b[39;00m \u001b[38;5;21;01mtime\u001b[39;00m\u001b[38;5;241m,\u001b[39m \u001b[38;5;21;01mjoblib\u001b[39;00m\n\u001b[1;32m      3\u001b[0m start \u001b[38;5;241m=\u001b[39m time\u001b[38;5;241m.\u001b[39mtime()\n\u001b[0;32m----> 5\u001b[0m results \u001b[38;5;241m=\u001b[39m \u001b[43mjoblib\u001b[49m\u001b[38;5;241;43m.\u001b[39;49m\u001b[43mParallel\u001b[49m\u001b[43m(\u001b[49m\u001b[43mn_jobs\u001b[49m\u001b[38;5;241;43m=\u001b[39;49m\u001b[43m \u001b[49m\u001b[38;5;241;43m-\u001b[39;49m\u001b[38;5;241;43m1\u001b[39;49m\u001b[43m)\u001b[49m\u001b[43m(\u001b[49m\n\u001b[1;32m      6\u001b[0m \u001b[43m    \u001b[49m\u001b[43mjoblib\u001b[49m\u001b[38;5;241;43m.\u001b[39;49m\u001b[43mdelayed\u001b[49m\u001b[43m(\u001b[49m\u001b[43mcalculate_mean_cfp\u001b[49m\u001b[43m)\u001b[49m\u001b[43m(\u001b[49m\u001b[43midx\u001b[49m\u001b[43m,\u001b[49m\u001b[43m \u001b[49m\u001b[43mproc\u001b[49m\u001b[43m)\u001b[49m\u001b[43m \u001b[49m\n\u001b[1;32m      7\u001b[0m \u001b[43m    \u001b[49m\u001b[38;5;28;43;01mfor\u001b[39;49;00m\u001b[43m \u001b[49m\u001b[43midx\u001b[49m\u001b[43m,\u001b[49m\u001b[43m \u001b[49m\u001b[43mproc\u001b[49m\u001b[43m \u001b[49m\u001b[38;5;129;43;01min\u001b[39;49;00m\u001b[43m \u001b[49m\u001b[43mcleaned_processors\u001b[49m\u001b[43m[\u001b[49m\u001b[43m:\u001b[49m\u001b[38;5;241;43m10\u001b[39;49m\u001b[43m]\u001b[49m\u001b[38;5;241;43m.\u001b[39;49m\u001b[43miterrows\u001b[49m\u001b[43m(\u001b[49m\u001b[43m)\u001b[49m\u001b[43m)\u001b[49m\n\u001b[1;32m      9\u001b[0m \u001b[38;5;28mprint\u001b[39m(\u001b[38;5;124mf\u001b[39m\u001b[38;5;124m\"\u001b[39m\u001b[38;5;124mExecution Time: \u001b[39m\u001b[38;5;132;01m{\u001b[39;00mtime\u001b[38;5;241m.\u001b[39mtime()\u001b[38;5;250m \u001b[39m\u001b[38;5;241m-\u001b[39m\u001b[38;5;250m \u001b[39mstart\u001b[38;5;132;01m:\u001b[39;00m\u001b[38;5;124m.2f\u001b[39m\u001b[38;5;132;01m}\u001b[39;00m\u001b[38;5;124m seconds\u001b[39m\u001b[38;5;124m\"\u001b[39m)\n",
      "File \u001b[0;32m~/miniconda3/envs/llmcompass/lib/python3.9/site-packages/joblib/parallel.py:2007\u001b[0m, in \u001b[0;36mParallel.__call__\u001b[0;34m(self, iterable)\u001b[0m\n\u001b[1;32m   2001\u001b[0m \u001b[38;5;66;03m# The first item from the output is blank, but it makes the interpreter\u001b[39;00m\n\u001b[1;32m   2002\u001b[0m \u001b[38;5;66;03m# progress until it enters the Try/Except block of the generator and\u001b[39;00m\n\u001b[1;32m   2003\u001b[0m \u001b[38;5;66;03m# reaches the first `yield` statement. This starts the asynchronous\u001b[39;00m\n\u001b[1;32m   2004\u001b[0m \u001b[38;5;66;03m# dispatch of the tasks to the workers.\u001b[39;00m\n\u001b[1;32m   2005\u001b[0m \u001b[38;5;28mnext\u001b[39m(output)\n\u001b[0;32m-> 2007\u001b[0m \u001b[38;5;28;01mreturn\u001b[39;00m output \u001b[38;5;28;01mif\u001b[39;00m \u001b[38;5;28mself\u001b[39m\u001b[38;5;241m.\u001b[39mreturn_generator \u001b[38;5;28;01melse\u001b[39;00m \u001b[38;5;28;43mlist\u001b[39;49m\u001b[43m(\u001b[49m\u001b[43moutput\u001b[49m\u001b[43m)\u001b[49m\n",
      "File \u001b[0;32m~/miniconda3/envs/llmcompass/lib/python3.9/site-packages/joblib/parallel.py:1650\u001b[0m, in \u001b[0;36mParallel._get_outputs\u001b[0;34m(self, iterator, pre_dispatch)\u001b[0m\n\u001b[1;32m   1647\u001b[0m     \u001b[38;5;28;01myield\u001b[39;00m\n\u001b[1;32m   1649\u001b[0m     \u001b[38;5;28;01mwith\u001b[39;00m \u001b[38;5;28mself\u001b[39m\u001b[38;5;241m.\u001b[39m_backend\u001b[38;5;241m.\u001b[39mretrieval_context():\n\u001b[0;32m-> 1650\u001b[0m         \u001b[38;5;28;01myield from\u001b[39;00m \u001b[38;5;28mself\u001b[39m\u001b[38;5;241m.\u001b[39m_retrieve()\n\u001b[1;32m   1652\u001b[0m \u001b[38;5;28;01mexcept\u001b[39;00m \u001b[38;5;167;01mGeneratorExit\u001b[39;00m:\n\u001b[1;32m   1653\u001b[0m     \u001b[38;5;66;03m# The generator has been garbage collected before being fully\u001b[39;00m\n\u001b[1;32m   1654\u001b[0m     \u001b[38;5;66;03m# consumed. This aborts the remaining tasks if possible and warn\u001b[39;00m\n\u001b[1;32m   1655\u001b[0m     \u001b[38;5;66;03m# the user if necessary.\u001b[39;00m\n\u001b[1;32m   1656\u001b[0m     \u001b[38;5;28mself\u001b[39m\u001b[38;5;241m.\u001b[39m_exception \u001b[38;5;241m=\u001b[39m \u001b[38;5;28;01mTrue\u001b[39;00m\n",
      "File \u001b[0;32m~/miniconda3/envs/llmcompass/lib/python3.9/site-packages/joblib/parallel.py:1762\u001b[0m, in \u001b[0;36mParallel._retrieve\u001b[0;34m(self)\u001b[0m\n\u001b[1;32m   1757\u001b[0m \u001b[38;5;66;03m# If the next job is not ready for retrieval yet, we just wait for\u001b[39;00m\n\u001b[1;32m   1758\u001b[0m \u001b[38;5;66;03m# async callbacks to progress.\u001b[39;00m\n\u001b[1;32m   1759\u001b[0m \u001b[38;5;28;01mif\u001b[39;00m ((\u001b[38;5;28mlen\u001b[39m(\u001b[38;5;28mself\u001b[39m\u001b[38;5;241m.\u001b[39m_jobs) \u001b[38;5;241m==\u001b[39m \u001b[38;5;241m0\u001b[39m) \u001b[38;5;129;01mor\u001b[39;00m\n\u001b[1;32m   1760\u001b[0m     (\u001b[38;5;28mself\u001b[39m\u001b[38;5;241m.\u001b[39m_jobs[\u001b[38;5;241m0\u001b[39m]\u001b[38;5;241m.\u001b[39mget_status(\n\u001b[1;32m   1761\u001b[0m         timeout\u001b[38;5;241m=\u001b[39m\u001b[38;5;28mself\u001b[39m\u001b[38;5;241m.\u001b[39mtimeout) \u001b[38;5;241m==\u001b[39m TASK_PENDING)):\n\u001b[0;32m-> 1762\u001b[0m     \u001b[43mtime\u001b[49m\u001b[38;5;241;43m.\u001b[39;49m\u001b[43msleep\u001b[49m\u001b[43m(\u001b[49m\u001b[38;5;241;43m0.01\u001b[39;49m\u001b[43m)\u001b[49m\n\u001b[1;32m   1763\u001b[0m     \u001b[38;5;28;01mcontinue\u001b[39;00m\n\u001b[1;32m   1765\u001b[0m \u001b[38;5;66;03m# We need to be careful: the job list can be filling up as\u001b[39;00m\n\u001b[1;32m   1766\u001b[0m \u001b[38;5;66;03m# we empty it and Python list are not thread-safe by\u001b[39;00m\n\u001b[1;32m   1767\u001b[0m \u001b[38;5;66;03m# default hence the use of the lock\u001b[39;00m\n",
      "\u001b[0;31mKeyboardInterrupt\u001b[0m: "
     ]
    }
   ],
   "source": [
    "import time, joblib\n",
    "\n",
    "start = time.time()\n",
    "\n",
    "results = joblib.Parallel(n_jobs= -1)(\n",
    "    joblib.delayed(calculate_mean_cfp)(idx, proc) \n",
    "    for idx, proc in cleaned_processors[:10].iterrows())\n",
    "\n",
    "print(f\"Execution Time: {time.time() - start:.2f} seconds\")\n"
   ]
  },
  {
   "cell_type": "code",
   "execution_count": null,
   "metadata": {},
   "outputs": [],
   "source": [
    "cleaned_processors\n"
   ]
  },
  {
   "cell_type": "code",
   "execution_count": null,
   "metadata": {},
   "outputs": [],
   "source": [
    "for idx, emb_mean, ope_mean, tot_mean in results:\n",
    "    cleaned_processors.at[idx, 'Emb_Carbon_Mean'] = emb_mean\n",
    "    cleaned_processors.at[idx, 'Ope_Carbon_Mean'] = ope_mean\n",
    "    cleaned_processors.at[idx, 'Tot_Carbon_Mean'] = tot_mean\n",
    "\n",
    "\n",
    "cleaned_processors.to_csv(\"cleaned_processor_CFP_complete.csv\", index=False)"
   ]
  },
  {
   "cell_type": "code",
   "execution_count": null,
   "metadata": {},
   "outputs": [],
   "source": []
  }
 ],
 "metadata": {
  "kernelspec": {
   "display_name": "llmcompass",
   "language": "python",
   "name": "python3"
  },
  "language_info": {
   "codemirror_mode": {
    "name": "ipython",
    "version": 3
   },
   "file_extension": ".py",
   "mimetype": "text/x-python",
   "name": "python",
   "nbconvert_exporter": "python",
   "pygments_lexer": "ipython3",
   "version": "3.9.18"
  }
 },
 "nbformat": 4,
 "nbformat_minor": 2
}
