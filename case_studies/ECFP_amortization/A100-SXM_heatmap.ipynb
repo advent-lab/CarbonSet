{
 "cells": [
  {
   "cell_type": "code",
   "execution_count": 1,
   "metadata": {},
   "outputs": [
    {
     "ename": "ModuleNotFoundError",
     "evalue": "No module named 'seaborn'",
     "output_type": "error",
     "traceback": [
      "\u001b[0;31m---------------------------------------------------------------------------\u001b[0m",
      "\u001b[0;31mModuleNotFoundError\u001b[0m                       Traceback (most recent call last)",
      "Cell \u001b[0;32mIn[1], line 3\u001b[0m\n\u001b[1;32m      1\u001b[0m \u001b[38;5;28;01mimport\u001b[39;00m \u001b[38;5;21;01mpandas\u001b[39;00m \u001b[38;5;28;01mas\u001b[39;00m \u001b[38;5;21;01mpd\u001b[39;00m\n\u001b[1;32m      2\u001b[0m \u001b[38;5;28;01mimport\u001b[39;00m \u001b[38;5;21;01mmatplotlib\u001b[39;00m\u001b[38;5;21;01m.\u001b[39;00m\u001b[38;5;21;01mpyplot\u001b[39;00m \u001b[38;5;28;01mas\u001b[39;00m \u001b[38;5;21;01mplt\u001b[39;00m\n\u001b[0;32m----> 3\u001b[0m \u001b[38;5;28;01mimport\u001b[39;00m \u001b[38;5;21;01mseaborn\u001b[39;00m \u001b[38;5;28;01mas\u001b[39;00m \u001b[38;5;21;01msns\u001b[39;00m\n\u001b[1;32m      4\u001b[0m \u001b[38;5;28;01mimport\u001b[39;00m \u001b[38;5;21;01mnumpy\u001b[39;00m \u001b[38;5;28;01mas\u001b[39;00m \u001b[38;5;21;01mnp\u001b[39;00m\n\u001b[1;32m      5\u001b[0m \u001b[38;5;28;01mfrom\u001b[39;00m \u001b[38;5;21;01mmatplotlib\u001b[39;00m\u001b[38;5;21;01m.\u001b[39;00m\u001b[38;5;21;01mcolors\u001b[39;00m \u001b[38;5;28;01mimport\u001b[39;00m LinearSegmentedColormap\n",
      "\u001b[0;31mModuleNotFoundError\u001b[0m: No module named 'seaborn'"
     ]
    }
   ],
   "source": [
    "import pandas as pd\n",
    "import matplotlib.pyplot as plt\n",
    "import seaborn as sns\n",
    "import numpy as np\n",
    "from matplotlib.colors import LinearSegmentedColormap\n",
    "\n",
    "# Load the CSV file\n",
    "file_path = 'A100-SXM_data.csv'\n",
    "data = pd.read_csv(file_path)\n",
    "\n",
    "# Extract data for the heatmap\n",
    "idle_time = data['Idle Time']\n",
    "time_periods = data.columns[1:]  # Exclude 'Idle Time' column\n",
    "heatmap_data = data.iloc[:, 1:].values  # Only the numerical data for the heatmap\n",
    "\n",
    "# Define a custom colormap for values with a focus on values >1\n",
    "nodes = [0, 0.1, 0.2, 0.8, 1]  # Allocate more space for values >1\n",
    "colors = [\"#003366\", \"#6699FF\", \"#FFCCCC\", \"#FF6666\", \"#CC0000\"]\n",
    "custom_cmap = LinearSegmentedColormap.from_list(\"blue_red_scale\", list(zip(nodes, colors)))\n",
    "\n",
    "# Create the heatmap\n",
    "plt.figure(figsize=(10, 8))\n",
    "ax = sns.heatmap(\n",
    "    heatmap_data, \n",
    "    cmap=custom_cmap, \n",
    "    xticklabels=time_periods, \n",
    "    yticklabels=idle_time, \n",
    "    vmin=0, \n",
    "    vmax=14\n",
    ")\n",
    "\n",
    "# ax.tick_params(axis='both', which='major', labelsize=12)  # Major ticks\n",
    "# ax.tick_params(axis='both', which='minor', labelsize=12)  \n",
    "\n",
    "\n",
    "x_points = [1,  1,  1, 2, 2, 3, 3, 4, 4, 6, 6, 10] \n",
    "y_points = [10, 10, 6, 6, 4, 4, 3, 3, 2, 2, 1, 1]  \n",
    "ax.plot(\n",
    "    x_points, \n",
    "    y_points, \n",
    "    color=\"#FF6700\", linewidth=8\n",
    ")\n",
    "\n",
    "# Ensure the line stays within the grid bounds\n",
    "ax.set_xlim(0, len(time_periods))\n",
    "ax.set_ylim(len(idle_time), 0)  # Inverted y-axis for heatmap\n",
    "\n",
    "# Set labels and title\n",
    "plt.xlabel('Lifetime (Years)', fontsize=24, fontweight='bold')\n",
    "plt.ylabel('Idle Time (%)', fontsize=24, fontweight='bold')\n",
    "\n",
    "plt.xticks(fontsize=20, fontweight='bold')\n",
    "plt.yticks(fontsize=20, fontweight='bold')\n",
    "\n",
    "colorbar = ax.collections[0].colorbar  # Access the color bar of the heatmap\n",
    "colorbar.ax.set_ylabel('                       OCFP dominates     ECFP dominates                       ', rotation=90, labelpad=4, fontsize=22, fontweight='bold')# Set the main label for the color bar\n",
    "\n",
    "colorbar.ax.tick_params(labelsize=18)\n",
    "\n",
    "# Save the plot to a PDF file\n",
    "output_pdf = 'A100-SXM_heatmap.pdf'\n",
    "plt.savefig(output_pdf, format='pdf', bbox_inches='tight')\n",
    "\n",
    "# Show the plot\n",
    "plt.show()\n"
   ]
  }
 ],
 "metadata": {
  "kernelspec": {
   "display_name": "base",
   "language": "python",
   "name": "python3"
  },
  "language_info": {
   "codemirror_mode": {
    "name": "ipython",
    "version": 3
   },
   "file_extension": ".py",
   "mimetype": "text/x-python",
   "name": "python",
   "nbconvert_exporter": "python",
   "pygments_lexer": "ipython3",
   "version": "3.11.4"
  }
 },
 "nbformat": 4,
 "nbformat_minor": 2
}
